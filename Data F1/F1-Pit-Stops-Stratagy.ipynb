{
 "cells": [
  {
   "cell_type": "code",
   "execution_count": 9,
   "id": "f93c8745",
   "metadata": {},
   "outputs": [],
   "source": [
    "import fastf1 as ff1\n",
    "from fastf1 import plotting\n",
    "from matplotlib import pyplot as plt\n",
    "from matplotlib.pyplot import figure\n",
    "\n",
    "# pequeno projeto para analisar dados de pit-stop\n",
    "# biblioteca fastf1 para importar dados de corrida\n",
    "# # bibliotea matplotlib para visualizar dados\n",
    "# numpy e pandas para manipular dados"
   ]
  },
  {
   "cell_type": "code",
   "execution_count": 10,
   "id": "3d695be3",
   "metadata": {},
   "outputs": [],
   "source": [
    "# habilitando o cache do fastf1\n",
    "\n",
    "ff1.Cache.enable_cache('cache')\n"
   ]
  },
  {
   "cell_type": "code",
   "execution_count": 15,
   "id": "7b7ea42e",
   "metadata": {},
   "outputs": [
    {
     "name": "stderr",
     "output_type": "stream",
     "text": [
      "C:\\Users\\e009349\\Anaconda3\\lib\\site-packages\\fastf1\\core.py:1220: FutureWarning: `Session.load_laps` is deprecated and will beremoved in a future version.\n",
      "Use `Session.load` instead.\n",
      "  warnings.warn(\"`Session.load_laps` is deprecated and will be\"\n",
      "core           INFO \tLoading data for Singapore Grand Prix - Race [v2.3.0]\n",
      "api            INFO \tNo cached data found for driver_info. Loading data...\n",
      "api            INFO \tFetching driver list...\n",
      "api            INFO \tData has been written to cache!\n",
      "api            INFO \tNo cached data found for timing_data. Loading data...\n",
      "api            INFO \tFetching timing data...\n",
      "api            INFO \tParsing timing data...\n",
      "api            INFO \tData has been written to cache!\n",
      "api            INFO \tNo cached data found for timing_app_data. Loading data...\n",
      "api            INFO \tFetching timing app data...\n",
      "api            INFO \tData has been written to cache!\n",
      "core           INFO \tProcessing timing data...\n",
      "api            INFO \tNo cached data found for session_status_data. Loading data...\n",
      "api            INFO \tFetching session status data...\n",
      "api            INFO \tData has been written to cache!\n",
      "api            INFO \tNo cached data found for track_status_data. Loading data...\n",
      "api            INFO \tFetching track status data...\n",
      "api            INFO \tData has been written to cache!\n",
      "api            INFO \tNo cached data found for car_data. Loading data...\n",
      "api            INFO \tFetching car data...\n",
      "api            INFO \tParsing car data...\n",
      "api            INFO \tData has been written to cache!\n",
      "api            INFO \tNo cached data found for position_data. Loading data...\n",
      "api            INFO \tFetching position data...\n",
      "api            INFO \tParsing position data...\n",
      "api         WARNING \tDriver 241: Position data is incomplete!\n",
      "api         WARNING \tDriver 242: Position data is incomplete!\n",
      "api         WARNING \tDriver 243: Position data is incomplete!\n",
      "api            INFO \tData has been written to cache!\n",
      "api            INFO \tNo cached data found for weather_data. Loading data...\n",
      "api            INFO \tFetching weather data...\n",
      "api            INFO \tData has been written to cache!\n",
      "api            INFO \tNo cached data found for race_control_messages. Loading data...\n",
      "api            INFO \tFetching race control messages...\n",
      "api            INFO \tData has been written to cache!\n",
      "core           INFO \tFinished loading data for 20 drivers: ['11', '16', '55', '4', '3', '18', '1', '5', '44', '10', '77', '20', '47', '63', '22', '31', '23', '14', '6', '24']\n"
     ]
    }
   ],
   "source": [
    "# coletando dados\n",
    "\n",
    "year = 2022\n",
    "circuit ='Cingapure'\n",
    "\n",
    "# Carregando os dados da sessão\n",
    "\n",
    "race = ff1.get_session(year,circuit, 'R')\n",
    "laps = race.load_laps(with_telemetry=True)"
   ]
  },
  {
   "cell_type": "code",
   "execution_count": 16,
   "id": "ded3fe33",
   "metadata": {},
   "outputs": [],
   "source": [
    "# precisaremos de dados do piloto, stint e composto de pneus\n",
    "\n",
    "driver_stints = laps[['Driver', 'Stint', 'Compound', 'LapNumber']].groupby(\n",
    "['Driver', 'Stint', 'Compound']\n",
    ").count().reset_index()\n",
    "\n",
    "# count vai contar o número de voltas específicas com o composto de pneus em questão\n"
   ]
  },
  {
   "cell_type": "code",
   "execution_count": 17,
   "id": "91ab6501",
   "metadata": {},
   "outputs": [],
   "source": [
    "# renomeando a variárvel Lapnumber e ordenando o set de dados\n",
    "\n",
    "driver_stints = driver_stints.rename(columns={'LapNumber': 'StintLength'})\n",
    "driver_stints = driver_stints.sort_values(by=['Stint'])"
   ]
  },
  {
   "cell_type": "code",
   "execution_count": 20,
   "id": "bfcd1c2f",
   "metadata": {},
   "outputs": [],
   "source": [
    "# plotando os dados\n",
    "\n",
    "compound_colors = {\n",
    "    'SOFT': '#FF3333',\n",
    "    'MEDIUM': '#FFF200',\n",
    "    'HARD': '#EBEBEB',\n",
    "    'INTERMEDIATE': '#39B54A',    \n",
    "    'WET': '#00AEEF',\n",
    "}"
   ]
  },
  {
   "cell_type": "code",
   "execution_count": 22,
   "id": "5ed2fd50",
   "metadata": {},
   "outputs": [
    {
     "data": {
      "image/png": "[encoded data removed]",
      "text/plain": [
       "<Figure size 1080x720 with 1 Axes>"
      ]
     },
     "metadata": {
      "needs_background": "light"
     },
     "output_type": "display_data"
    }
   ],
   "source": [
    "# finalmente, é hora de gerar o plot\n",
    "plt.rcParams[\"figure.figsize\"] = [15,10]\n",
    "plt.rcParams[\"figure.autolayout\"] = True\n",
    "\n",
    "fig, ax = plt.subplots()\n",
    "\n",
    "# criando loop para apresentar barra com dados de cada piloto\n",
    "\n",
    "# todos os dados finais são colhidos. Podemos brincar em apresentá-los\n",
    "\n",
    "for driver in race.results['Abbreviation']:\n",
    "    stints = driver_stints.loc[driver_stints['Driver'] == driver]\n",
    "    \n",
    "    previous_stint_end = 0\n",
    "    for _, stint in stints.iterrows():\n",
    "        plt.barh(\n",
    "        [driver],\n",
    "        stint['StintLength'],\n",
    "        left=previous_stint_end,\n",
    "        color=compound_colors[stint['Compound']],\n",
    "            edgecolor = \"black\"\n",
    "        )\n",
    "        \n",
    "        previous_stint_end = previous_stint_end + stint['StintLength']\n",
    "        \n",
    "# Configurando título\n",
    "\n",
    "plt.title(f'Estratégia de Corrida - {circuit} {year}')\n",
    "\n",
    "# Configurando x\n",
    "plt.xlabel('Lap')\n",
    "\n",
    "# y-axis invertido\n",
    "plt.gca().invert_yaxis()\n",
    "\n",
    "# Removendo frame do plot\n",
    "\n",
    "ax.spines['top'].set_visible(False)\n",
    "ax.spines['right'].set_visible(False)\n",
    "ax.spines['left'].set_visible(False)\n"
   ]
  },
  {
   "cell_type": "code",
   "execution_count": 24,
   "id": "b6999c07",
   "metadata": {},
   "outputs": [
    {
     "name": "stdout",
     "output_type": "stream",
     "text": [
      "   DriverNumber BroadcastName Abbreviation         TeamName TeamColor  \\\n",
      "11           11       S PEREZ          PER  Red Bull Racing    1e5bc6   \n",
      "16           16     C LECLERC          LEC          Ferrari    ed1c24   \n",
      "55           55       C SAINZ          SAI          Ferrari    ed1c24   \n",
      "4             4      L NORRIS          NOR          McLaren    f58020   \n",
      "3             3   D RICCIARDO          RIC          McLaren    f58020   \n",
      "18           18      L STROLL          STR     Aston Martin    2d826d   \n",
      "1             1  M VERSTAPPEN          VER  Red Bull Racing    1e5bc6   \n",
      "5             5      S VETTEL          VET     Aston Martin    2d826d   \n",
      "44           44    L HAMILTON          HAM         Mercedes    6cd3bf   \n",
      "10           10       P GASLY          GAS       AlphaTauri    4e7c9b   \n",
      "77           77      V BOTTAS          BOT       Alfa Romeo    b12039   \n",
      "20           20   K MAGNUSSEN          MAG     Haas F1 Team    b6babd   \n",
      "47           47  M SCHUMACHER          MSC     Haas F1 Team    b6babd   \n",
      "63           63     G RUSSELL          RUS         Mercedes    6cd3bf   \n",
      "22           22     Y TSUNODA          TSU       AlphaTauri    4e7c9b   \n",
      "31           31        E OCON          OCO           Alpine    2293d1   \n",
      "23           23       A ALBON          ALB         Williams    37bedd   \n",
      "14           14      F ALONSO          ALO           Alpine    2293d1   \n",
      "6             6      N LATIFI          LAT         Williams    37bedd   \n",
      "24           24        G ZHOU          ZHO       Alfa Romeo    b12039   \n",
      "\n",
      "    FirstName    LastName          FullName  Position  GridPosition  Q1  Q2  \\\n",
      "11     Sergio       Perez      Sergio Perez       1.0           2.0 NaT NaT   \n",
      "16    Charles     Leclerc   Charles Leclerc       2.0           1.0 NaT NaT   \n",
      "55     Carlos       Sainz      Carlos Sainz       3.0           4.0 NaT NaT   \n",
      "4       Lando      Norris      Lando Norris       4.0           6.0 NaT NaT   \n",
      "3      Daniel   Ricciardo  Daniel Ricciardo       5.0          16.0 NaT NaT   \n",
      "18      Lance      Stroll      Lance Stroll       6.0          11.0 NaT NaT   \n",
      "1         Max  Verstappen    Max Verstappen       7.0           8.0 NaT NaT   \n",
      "5   Sebastian      Vettel  Sebastian Vettel       8.0          13.0 NaT NaT   \n",
      "44      Lewis    Hamilton    Lewis Hamilton       9.0           3.0 NaT NaT   \n",
      "10     Pierre       Gasly      Pierre Gasly      10.0           7.0 NaT NaT   \n",
      "77   Valtteri      Bottas   Valtteri Bottas      11.0          15.0 NaT NaT   \n",
      "20      Kevin   Magnussen   Kevin Magnussen      12.0           9.0 NaT NaT   \n",
      "47       Mick  Schumacher   Mick Schumacher      13.0          12.0 NaT NaT   \n",
      "63     George     Russell    George Russell      14.0           0.0 NaT NaT   \n",
      "22       Yuki     Tsunoda      Yuki Tsunoda      15.0          10.0 NaT NaT   \n",
      "31    Esteban        Ocon      Esteban Ocon      16.0          17.0 NaT NaT   \n",
      "23  Alexander       Albon   Alexander Albon      17.0          18.0 NaT NaT   \n",
      "14   Fernando      Alonso   Fernando Alonso      18.0           5.0 NaT NaT   \n",
      "6    Nicholas      Latifi   Nicholas Latifi      19.0          19.0 NaT NaT   \n",
      "24     Guanyu        Zhou       Guanyu Zhou      20.0          14.0 NaT NaT   \n",
      "\n",
      "    Q3                   Time            Status  Points  \n",
      "11 NaT 0 days 02:02:20.238000          Finished    25.0  \n",
      "16 NaT 0 days 02:02:22.833000          Finished    18.0  \n",
      "55 NaT 0 days 02:02:30.543000          Finished    15.0  \n",
      "4  NaT 0 days 02:02:41.371000          Finished    12.0  \n",
      "3  NaT 0 days 02:03:13.520000          Finished    10.0  \n",
      "18 NaT 0 days 02:03:16.568000          Finished     8.0  \n",
      "1  NaT 0 days 02:03:19.063000          Finished     6.0  \n",
      "5  NaT 0 days 02:03:20.270000          Finished     4.0  \n",
      "44 NaT 0 days 02:03:21.753000          Finished     2.0  \n",
      "10 NaT 0 days 02:03:29.814000          Finished     1.0  \n",
      "77 NaT 0 days 02:03:49.082000          Finished     0.0  \n",
      "20 NaT 0 days 02:03:52.848000          Finished     0.0  \n",
      "47 NaT                    NaT            +1 Lap     0.0  \n",
      "63 NaT                    NaT           +2 Laps     0.0  \n",
      "22 NaT                    NaT          Accident     0.0  \n",
      "31 NaT                    NaT            Engine     0.0  \n",
      "23 NaT                    NaT  Collision damage     0.0  \n",
      "14 NaT                    NaT            Engine     0.0  \n",
      "6  NaT                    NaT  Collision damage     0.0  \n",
      "24 NaT                    NaT         Collision     0.0  \n"
     ]
    }
   ],
   "source": [
    "print (race.results)"
   ]
  },
  {
   "cell_type": "code",
   "execution_count": null,
   "id": "80b5efe3",
   "metadata": {},
   "outputs": [],
   "source": []
  }
 ],
 "metadata": {
  "kernelspec": {
   "display_name": "Python 3 (ipykernel)",
   "language": "python",
   "name": "python3"
  },
  "language_info": {
   "codemirror_mode": {
    "name": "ipython",
    "version": 3
   },
   "file_extension": ".py",
   "mimetype": "text/x-python",
   "name": "python",
   "nbconvert_exporter": "python",
   "pygments_lexer": "ipython3",
   "version": "3.9.12"
  }
 },
 "nbformat": 4,
 "nbformat_minor": 5
}
